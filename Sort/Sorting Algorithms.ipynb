{
 "cells": [
  {
   "cell_type": "code",
   "execution_count": null,
   "metadata": {},
   "outputs": [],
   "source": [
    "def quicksort(a):\n",
    "    if len(a)<=1: return a\n",
    "    left,right = [],[]\n",
    "    p = a[0]\n",
    "    for i in range(1,len(a)):\n",
    "        if a[i]<p: left.append(a[i])\n",
    "        else: right.append(a[i])\n",
    "    return quicksort(left)+[p]+quicksort(right)\n",
    "\n",
    "quicksort([1,4,1,2,1,4,2,12,11,8,9,3,0])"
   ]
  },
  {
   "cell_type": "code",
   "execution_count": null,
   "metadata": {},
   "outputs": [],
   "source": [
    "def merge(a,b):\n",
    "    i = 0\n",
    "    j = 0\n",
    "    r = []\n",
    "    while(i<len(a) and j<len(b)):\n",
    "        if(a[i]<b[j]): \n",
    "            r.append(a[i])\n",
    "            i+=1\n",
    "        else:\n",
    "            r.append(b[j])\n",
    "            j+=1\n",
    "    while(i<len(a)):\n",
    "        r.append(a[i])\n",
    "        i+=1\n",
    "\n",
    "    while(j<len(b)):\n",
    "        r.append(b[j])\n",
    "        j+=1\n",
    "    return r\n",
    "\n",
    "def mergesort(a):\n",
    "    if len(a)<=1: return a\n",
    "    p1 = mergesort(a[:len(a)//2])\n",
    "    p2 = mergesort(a[len(a)//2:])\n",
    "    return merge(p1,p2)\n",
    "\n",
    "\n",
    "mergesort([1,4,1,2,1,4,2,12,11,8,9,3,0])"
   ]
  },
  {
   "cell_type": "code",
   "execution_count": null,
   "metadata": {},
   "outputs": [],
   "source": [
    "def countingsort(a):\n",
    "    mx,mn = max(a),min(a)\n",
    "    counter = [0 for i in range(mn,mx+1)]\n",
    "    for i in a:\n",
    "        counter[i-mn]+=1\n",
    "    k = 0\n",
    "    i = 0\n",
    "    while(i<len(counter)):\n",
    "        if(counter[i]!=0):\n",
    "            counter[i]-=1\n",
    "            a[k] = mn+i\n",
    "            k+=1\n",
    "        else:\n",
    "            i+=1\n",
    "    return a\n",
    "\n",
    "\n",
    "countingsort([1,4,1,2,1,4,2,12,11,8,9,3,0])"
   ]
  },
  {
   "cell_type": "code",
   "execution_count": null,
   "metadata": {},
   "outputs": [],
   "source": [
    "def bubblesort(a):\n",
    "    n =  len(a)\n",
    "    for i in range(n):\n",
    "        swapped = False\n",
    "        for j in range(0, n-i-1):\n",
    "            if a[j] > a[j+1]:\n",
    "                a[j], a[j+1] = a[j+1], a[j]\n",
    "                swapped = True\n",
    "        if (swapped == False): return a\n",
    "\n",
    "bubblesort([1,4,1,2,1,4,2,12,11,8,9,3,0])"
   ]
  },
  {
   "cell_type": "code",
   "execution_count": null,
   "metadata": {},
   "outputs": [],
   "source": [
    "def insertionsort(a):\n",
    "    n = len(a)\n",
    "    if n <= 1:\n",
    "        return a\n",
    " \n",
    "    for i in range(1, n):  \n",
    "        key = a[i]  \n",
    "        j = i-1\n",
    "        while j >= 0 and key < a[j]:  \n",
    "            a[j+1] = a[j]\n",
    "            j -= 1\n",
    "        a[j+1] = key\n",
    "    return a\n",
    "\n",
    "insertionsort([1,4,1,2,1,4,2,12,11,8,9,3,0])"
   ]
  },
  {
   "cell_type": "code",
   "execution_count": null,
   "metadata": {},
   "outputs": [],
   "source": [
    "!pip install matplotlib"
   ]
  },
  {
   "cell_type": "code",
   "execution_count": null,
   "metadata": {},
   "outputs": [],
   "source": [
    "import time\n",
    "from random import randint\n",
    "\n",
    "def gettime(a,fun):\n",
    "    t1 = time.time()\n",
    "    fun(a)\n",
    "    return (time.time()-t1)*1000\n",
    "\n",
    "a = [randint(0,150) for i in range(1000)]\n",
    "print(f'Time elapsed to sort the list {a}\\nwith bubblesort is {gettime(a,bubblesort)} miliseconds')"
   ]
  },
  {
   "cell_type": "code",
   "execution_count": null,
   "metadata": {},
   "outputs": [],
   "source": [
    "from matplotlib import pyplot as plt\n",
    "\n",
    "insertion_time,bubble_time,counting_time,merge_time,quick_time = [],[],[],[],[]\n",
    "\n",
    "a = [1,4,1,2,1,4,2,12,11,8,9,3,0,12,13,9,8,7,2,1]\n",
    "m = a.copy()\n",
    "size = []\n",
    "\n",
    "while(len(m)<=2100):\n",
    "    size.append(len(m))\n",
    "    insertion_time.append(gettime(m.copy(),insertionsort))\n",
    "    bubble_time.append(gettime(m.copy(),bubblesort))\n",
    "    counting_time.append(gettime(m.copy(),countingsort))\n",
    "    merge_time.append(gettime(m.copy(),mergesort))\n",
    "    quick_time.append(gettime(m.copy(),quicksort))\n",
    "    m+=a\n",
    "\n",
    "print(f'DataSet with {len(size)} entries to plot')"
   ]
  },
  {
   "cell_type": "code",
   "execution_count": null,
   "metadata": {},
   "outputs": [],
   "source": [
    "#Plot the figure\n",
    "plt.plot(size,insertion_time,color=\"green\",label=\"Insertion sort\")\n",
    "plt.plot(size,quick_time,color=\"red\",label=\"Quick sort\")\n",
    "plt.plot(size,counting_time,color=\"blue\",label=\"Counting sort\")\n",
    "plt.plot(size,merge_time,color=\"purple\",label=\"Merge sort\")\n",
    "plt.plot(size,bubble_time,color=\"gold\",label=\"Bubble sort\")\n",
    "plt.xlabel(\"Array Size (n)\")\n",
    "plt.ylabel(\"Time elapsed (ms)\")\n",
    "plt.title(\"Sorting Algorithms Time Comparison\")\n",
    "plt.legend()\n",
    "plt.show()"
   ]
  }
 ],
 "metadata": {
  "language_info": {
   "name": "python"
  },
  "orig_nbformat": 4
 },
 "nbformat": 4,
 "nbformat_minor": 2
}
