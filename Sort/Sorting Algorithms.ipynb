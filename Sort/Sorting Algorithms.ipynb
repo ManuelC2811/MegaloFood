{
 "cells": [
  {
   "cell_type": "code",
   "execution_count": null,
   "metadata": {},
   "outputs": [],
   "source": [
    "def quicksort(a):\n",
    "    if len(a)<=1: return a\n",
    "    left,right = [],[]\n",
    "    p = a[0]\n",
    "    for i in range(1,len(a)):\n",
    "        if a[i]<p: left.append(a[i])\n",
    "        else: right.append(a[i])\n",
    "    return quicksort(left)+[p]+quicksort(right)\n",
    "\n",
    "quicksort([1,4,1,2,1,4,2,12,11,8,9,3,0])"
   ]
  },
  {
   "cell_type": "code",
   "execution_count": null,
   "metadata": {},
   "outputs": [],
   "source": [
    "def merge(a,b):\n",
    "    i = 0\n",
    "    j = 0\n",
    "    r = []\n",
    "    while(i<len(a) and j<len(b)):\n",
    "        if(a[i]<b[j]): \n",
    "            r.append(a[i])\n",
    "            i+=1\n",
    "        else:\n",
    "            r.append(b[j])\n",
    "            j+=1\n",
    "    while(i<len(a)):\n",
    "        r.append(a[i])\n",
    "        i+=1\n",
    "\n",
    "    while(j<len(b)):\n",
    "        r.append(b[j])\n",
    "        j+=1\n",
    "    return r\n",
    "\n",
    "def mergesort(a):\n",
    "    if len(a)<=1: return a\n",
    "    p1 = mergesort(a[:len(a)//2])\n",
    "    p2 = mergesort(a[len(a)//2:])\n",
    "    return merge(p1,p2)\n",
    "\n",
    "\n",
    "mergesort([1,4,1,2,1,4,2,12,11,8,9,3,0])"
   ]
  }
 ],
 "metadata": {
  "language_info": {
   "name": "python"
  },
  "orig_nbformat": 4
 },
 "nbformat": 4,
 "nbformat_minor": 2
}
